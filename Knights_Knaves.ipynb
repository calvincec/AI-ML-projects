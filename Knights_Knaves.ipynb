{
  "nbformat": 4,
  "nbformat_minor": 0,
  "metadata": {
    "colab": {
      "provenance": []
    },
    "kernelspec": {
      "name": "python3",
      "display_name": "Python 3"
    },
    "language_info": {
      "name": "python"
    }
  },
  "cells": [
    {
      "cell_type": "markdown",
      "source": [
        "#Knights and Knaves puzzles <br/>\n",
        "This project Used to enhance understanding of the knowledge and Reasoning concepts to solve logic puzzles<br/>\n",
        "The idea is based on Raymond Smullyan's book, \"What is the name of this book?\" which contains “Knights and Knaves” puzzles.<br/>\n",
        "\n",
        "In a Knights and Knaves puzzle, the following information is given:<br/>\n",
        "- Each character is either a knight or a knave.\n",
        "- A knight will always tell the truth: if a knight states a sentence, then that sentence is true.\n",
        "- Conversely, a knave will always lie: if a knave states a sentence, then that sentence is false.\n",
        "\n",
        "The objective of the puzzle is, given a set of sentences spoken by each of the characters, determine, for each character, whether that character is a knight or a knave.<br/>\n",
        "For example, consider a simple puzzle with just a single character named A. A says “I am both a knight and a knave.”<br/>\n",
        "Logically, we might reason that if A were a knight, then that sentence would have to be true. But we know that the sentence cannot possibly be true, because A cannot be both a knight and a knave; we know that each character is either a knight or a knave, but not both. So, we could conclude, A must be a knave."
      ],
      "metadata": {
        "id": "GozLeY10CTmM"
      }
    },
    {
      "cell_type": "markdown",
      "source": [
        "#Logic\n",
        "the logic cell below was provided by my computer science unit Lecturer and helps to define several classes for different types of logical connectives such as `And(A,B)`, `Or(A,B)`, `Not(Or(A,B))` which will be used in the knowledge base to connect various 'knowledges' in order to provide appropriate reasoning"
      ],
      "metadata": {
        "id": "JBtzTmhaGRcp"
      }
    },
    {
      "cell_type": "code",
      "source": [
        "#@title Logic\n",
        "# -*- coding: utf-8 -*-\n",
        "import itertools\n",
        "\n",
        "\n",
        "class Sentence():\n",
        "\n",
        "    def evaluate(self, model):\n",
        "        \"\"\"Evaluates the logical sentence.\"\"\"\n",
        "        raise Exception(\"nothing to evaluate\")\n",
        "\n",
        "    def formula(self):\n",
        "        \"\"\"Returns string formula representing logical sentence.\"\"\"\n",
        "        return \"\"\n",
        "\n",
        "    def symbols(self):\n",
        "        \"\"\"Returns a set of all symbols in the logical sentence.\"\"\"\n",
        "        return set()\n",
        "\n",
        "    @classmethod\n",
        "    def validate(cls, sentence):\n",
        "        if not isinstance(sentence, Sentence):\n",
        "            raise TypeError(\"must be a logical sentence\")\n",
        "\n",
        "    @classmethod\n",
        "    def parenthesize(cls, s):\n",
        "        \"\"\"Parenthesizes an expression if not already parenthesized.\"\"\"\n",
        "        def balanced(s):\n",
        "            \"\"\"Checks if a string has balanced parentheses.\"\"\"\n",
        "            count = 0\n",
        "            for c in s:\n",
        "                if c == \"(\":\n",
        "                    count += 1\n",
        "                elif c == \")\":\n",
        "                    if count <= 0:\n",
        "                        return False\n",
        "                    count -= 1\n",
        "            return count == 0\n",
        "        if not len(s) or s.isalpha() or (\n",
        "            s[0] == \"(\" and s[-1] == \")\" and balanced(s[1:-1])\n",
        "        ):\n",
        "            return s\n",
        "        else:\n",
        "            # return f\"({s})\"\n",
        "            return \"({})\".format(s)\n",
        "\n",
        "\n",
        "class Symbol(Sentence):\n",
        "\n",
        "    def __init__(self, name):\n",
        "        self.name = name\n",
        "\n",
        "    def __eq__(self, other):\n",
        "        return isinstance(other, Symbol) and self.name == other.name\n",
        "\n",
        "    def __hash__(self):\n",
        "        return hash((\"symbol\", self.name))\n",
        "\n",
        "    def __repr__(self):\n",
        "        return self.name\n",
        "\n",
        "    def evaluate(self, model):\n",
        "        try:\n",
        "            return bool(model[self.name])\n",
        "        except KeyError:\n",
        "            raise Exception(\"variable {} not in model\".format(self.name))\n",
        "\n",
        "    def formula(self):\n",
        "        return self.name\n",
        "\n",
        "    def symbols(self):\n",
        "        return {self.name}\n",
        "\n",
        "\n",
        "class Not(Sentence):\n",
        "    def __init__(self, operand):\n",
        "        Sentence.validate(operand)\n",
        "        self.operand = operand\n",
        "\n",
        "    def __eq__(self, other):\n",
        "        return isinstance(other, Not) and self.operand == other.operand\n",
        "\n",
        "    def __hash__(self):\n",
        "        return hash((\"not\", hash(self.operand)))\n",
        "\n",
        "    def __repr__(self):\n",
        "        return \"Not({})\".format(self.operand)\n",
        "\n",
        "    def evaluate(self, model):\n",
        "        return not self.operand.evaluate(model)\n",
        "\n",
        "    def formula(self):\n",
        "        return \"¬\" + Sentence.parenthesize(self.operand.formula())\n",
        "\n",
        "    def symbols(self):\n",
        "        return self.operand.symbols()\n",
        "\n",
        "\n",
        "class And(Sentence):\n",
        "    def __init__(self, *conjuncts):\n",
        "        for conjunct in conjuncts:\n",
        "            Sentence.validate(conjunct)\n",
        "        self.conjuncts = list(conjuncts)\n",
        "\n",
        "    def __eq__(self, other):\n",
        "        return isinstance(other, And) and self.conjuncts == other.conjuncts\n",
        "\n",
        "    def __hash__(self):\n",
        "        return hash(\n",
        "            (\"and\", tuple(hash(conjunct) for conjunct in self.conjuncts))\n",
        "        )\n",
        "\n",
        "    def __repr__(self):\n",
        "        conjunctions = \", \".join(\n",
        "            [str(conjunct) for conjunct in self.conjuncts]\n",
        "        )\n",
        "        return \"And({})\".format(conjunctions)\n",
        "\n",
        "    def add(self, conjunct):\n",
        "        Sentence.validate(conjunct)\n",
        "        self.conjuncts.append(conjunct)\n",
        "\n",
        "    def evaluate(self, model):\n",
        "        return all(conjunct.evaluate(model) for conjunct in self.conjuncts)\n",
        "\n",
        "    def formula(self):\n",
        "        if len(self.conjuncts) == 1:\n",
        "            return self.conjuncts[0].formula()\n",
        "        return \" ∧ \".join([Sentence.parenthesize(conjunct.formula())\n",
        "                           for conjunct in self.conjuncts])\n",
        "\n",
        "    def symbols(self):\n",
        "        return set.union(*[conjunct.symbols() for conjunct in self.conjuncts])\n",
        "\n",
        "\n",
        "class Or(Sentence):\n",
        "    def __init__(self, *disjuncts):\n",
        "        for disjunct in disjuncts:\n",
        "            Sentence.validate(disjunct)\n",
        "        self.disjuncts = list(disjuncts)\n",
        "\n",
        "    def __eq__(self, other):\n",
        "        return isinstance(other, Or) and self.disjuncts == other.disjuncts\n",
        "\n",
        "    def __hash__(self):\n",
        "        return hash(\n",
        "            (\"or\", tuple(hash(disjunct) for disjunct in self.disjuncts))\n",
        "        )\n",
        "\n",
        "    def __repr__(self):\n",
        "        disjuncts = \", \".join([str(disjunct) for disjunct in self.disjuncts])\n",
        "        return \"Or({})\".format(disjuncts)\n",
        "\n",
        "    def evaluate(self, model):\n",
        "        return any(disjunct.evaluate(model) for disjunct in self.disjuncts)\n",
        "\n",
        "    def formula(self):\n",
        "        if len(self.disjuncts) == 1:\n",
        "            return self.disjuncts[0].formula()\n",
        "        return \" ∨  \".join([Sentence.parenthesize(disjunct.formula())\n",
        "                            for disjunct in self.disjuncts])\n",
        "\n",
        "    def symbols(self):\n",
        "        return set.union(*[disjunct.symbols() for disjunct in self.disjuncts])\n",
        "\n",
        "\n",
        "class Implication(Sentence):\n",
        "    def __init__(self, antecedent, consequent):\n",
        "        Sentence.validate(antecedent)\n",
        "        Sentence.validate(consequent)\n",
        "        self.antecedent = antecedent\n",
        "        self.consequent = consequent\n",
        "\n",
        "    def __eq__(self, other):\n",
        "        return (isinstance(other, Implication)\n",
        "                and self.antecedent == other.antecedent\n",
        "                and self.consequent == other.consequent)\n",
        "\n",
        "    def __hash__(self):\n",
        "        return hash((\"implies\", hash(self.antecedent), hash(self.consequent)))\n",
        "\n",
        "    def __repr__(self):\n",
        "        return \"Implication({}, {})\".format(self.antecedent, self.consequent)\n",
        "\n",
        "    def evaluate(self, model):\n",
        "        return ((not self.antecedent.evaluate(model))\n",
        "                or self.consequent.evaluate(model))\n",
        "\n",
        "    def formula(self):\n",
        "        antecedent = Sentence.parenthesize(self.antecedent.formula())\n",
        "        consequent = Sentence.parenthesize(self.consequent.formula())\n",
        "        return \"{} => {}\".format(antecedent, consequent)\n",
        "\n",
        "    def symbols(self):\n",
        "        return set.union(self.antecedent.symbols(), self.consequent.symbols())\n",
        "\n",
        "\n",
        "class Biconditional(Sentence):\n",
        "    def __init__(self, left, right):\n",
        "        Sentence.validate(left)\n",
        "        Sentence.validate(right)\n",
        "        self.left = left\n",
        "        self.right = right\n",
        "\n",
        "    def __eq__(self, other):\n",
        "        return (isinstance(other, Biconditional)\n",
        "                and self.left == other.left\n",
        "                and self.right == other.right)\n",
        "\n",
        "    def __hash__(self):\n",
        "        return hash((\"biconditional\", hash(self.left), hash(self.right)))\n",
        "\n",
        "    def __repr__(self):\n",
        "        return \"Biconditional({}, {})\".format(self.left, self.right)\n",
        "\n",
        "    def evaluate(self, model):\n",
        "        return ((self.left.evaluate(model)\n",
        "                 and self.right.evaluate(model))\n",
        "                or (not self.left.evaluate(model)\n",
        "                    and not self.right.evaluate(model)))\n",
        "\n",
        "    def formula(self):\n",
        "        left = Sentence.parenthesize(str(self.left))\n",
        "        right = Sentence.parenthesize(str(self.right))\n",
        "        return \"{} <=> {}\".format(left, right)\n",
        "\n",
        "    def symbols(self):\n",
        "        return set.union(self.left.symbols(), self.right.symbols())\n",
        "\n",
        "\n",
        "def model_check(knowledge, query):\n",
        "    \"\"\"Checks if knowledge base entails query.\"\"\"\n",
        "\n",
        "    def check_all(knowledge, query, symbols, model):\n",
        "        \"\"\"Checks if knowledge base entails query, given a particular model.\"\"\"\n",
        "\n",
        "        # If model has an assignment for each symbol\n",
        "        if not symbols:\n",
        "\n",
        "            # If knowledge base is true in model, then query must also be true\n",
        "            if knowledge.evaluate(model):\n",
        "                return query.evaluate(model)\n",
        "            return True\n",
        "        else:\n",
        "\n",
        "            # Choose one of the remaining unused symbols\n",
        "            remaining = symbols.copy()\n",
        "            p = remaining.pop()\n",
        "\n",
        "            # Create a model where the symbol is true\n",
        "            model_true = model.copy()\n",
        "            model_true[p] = True\n",
        "\n",
        "            # Create a model where the symbol is false\n",
        "            model_false = model.copy()\n",
        "            model_false[p] = False\n",
        "\n",
        "            # Ensure entailment holds in both models\n",
        "            return (check_all(knowledge, query, remaining, model_true) and\n",
        "                    check_all(knowledge, query, remaining, model_false))\n",
        "\n",
        "    # Get all symbols in both knowledge and query\n",
        "    symbols = set.union(knowledge.symbols(), query.symbols())\n",
        "\n",
        "    # Check that knowledge entails query\n",
        "    return check_all(knowledge, query, symbols, dict())"
      ],
      "metadata": {
        "id": "oPbqI0SrJXF2"
      },
      "execution_count": 1,
      "outputs": []
    },
    {
      "cell_type": "markdown",
      "source": [
        "#symbols\n",
        "In the code cell below, six propositional symbols are defined. AKnight, for example, represents the sentence that “A is a knight,” </br>\n"
      ],
      "metadata": {
        "id": "5Ui41TP-J-7a"
      }
    },
    {
      "cell_type": "code",
      "source": [
        "AKnight = Symbol(\"A is a Knight\")\n",
        "AKnave = Symbol(\"A is a Knave\")\n",
        "\n",
        "BKnight = Symbol(\"B is a Knight\")\n",
        "BKnave = Symbol(\"B is a Knave\")\n",
        "\n",
        "CKnight = Symbol(\"C is a Knight\")\n",
        "CKnave = Symbol(\"C is a Knave\")  # ie, \"C is a knave\""
      ],
      "metadata": {
        "id": "49I1VwM8K92G"
      },
      "execution_count": 2,
      "outputs": []
    },
    {
      "cell_type": "markdown",
      "source": [
        "#Puzzle solver\n",
        "In the `puzzle_solver()` function below, the symbols are specified in a list. The model checking function is then used to compute, given the knowledge for that puzzle, whether each character is a knight or a knave, printing out any conclusions that the model checking algorithm is able to make. This code was also provided from class"
      ],
      "metadata": {
        "id": "aFaV2W1kLZwi"
      }
    },
    {
      "cell_type": "code",
      "source": [
        "def puzzle_solver(puzzle_name, knowledge):\n",
        "    symbols = [AKnight, AKnave, BKnight, BKnave, CKnight, CKnave]\n",
        "    print(puzzle_name)\n",
        "\n",
        "    if len(knowledge.conjuncts) == 0:\n",
        "        print(\"    Not yet implemented.\")\n",
        "    else:\n",
        "        for symbol in symbols:\n",
        "            if model_check(knowledge, symbol):\n",
        "                print(f\"    {symbol}\")"
      ],
      "metadata": {
        "id": "R5gSq5tELJII"
      },
      "execution_count": 3,
      "outputs": []
    },
    {
      "cell_type": "markdown",
      "source": [
        "# The actual Puzzles and Knowledge bases\n",
        "In the cells below, there are six different knowledge bases, `knowledge0`, `knowledge1`, `knowledge2`, `knowledge3`, `knowledge4`,and `knowledge5`, which will contain the knowledge needed to deduce the solutions to the Puzzles 0, 1, 2, 3, 4 and 5, respectively</br>\n",
        "To implement this is how I reasoned\n",
        "- I first assumed that A, B and C are people speaking\n",
        "- I then included the cases where each 'person' is knave and when is knight\n",
        "- Then used the recollection of their speeches  to create an implication, to see who is lying, and whos saying the truth\n",
        "- The implication compares their speeches and their personal sincerety"
      ],
      "metadata": {
        "id": "7Q8ITrT_Lwir"
      }
    },
    {
      "cell_type": "markdown",
      "source": [
        "##Puzzle 0\n",
        "- A says “I am both a knight and a knave.”"
      ],
      "metadata": {
        "id": "SR3BY0DAMfBZ"
      }
    },
    {
      "cell_type": "code",
      "source": [
        "knowledge0 = And(\n",
        "    And(Or(AKnave,AKnight),\n",
        "    Not(And(AKnave,AKnight))),\n",
        "\n",
        "    Implication(AKnave,Not(And(AKnight,AKnave))),\n",
        "    Implication(AKnight,(And(AKnight,AKnave)))\n",
        ")\n",
        "\n",
        "# Solve the puzzle\n",
        "puzzle_solver('Puzzle 0', knowledge0)"
      ],
      "metadata": {
        "id": "m6xnmgj1OBCB"
      },
      "execution_count": null,
      "outputs": []
    },
    {
      "cell_type": "markdown",
      "metadata": {
        "id": "iT-d9Q_ABMAf"
      },
      "source": [
        "## Puzzle 1\n",
        "**Puzzle 1** has two characters: A and B.\n",
        "- A says “We are both knaves.”\n",
        "- B says nothing."
      ]
    },
    {
      "cell_type": "code",
      "source": [
        "knowledge1 = And(\n",
        "    # YOUR CODE HERE\n",
        "    And(Or(AKnave,AKnight), Not(And(AKnave,AKnight))),\n",
        "    And(Or(BKnave,BKnight), Not(And(BKnave,BKnight))),\n",
        "    Implication(AKnave,Not(And(AKnave,BKnave))),\n",
        "    Implication(AKnight,(And(AKnave,BKnave)))\n",
        ")\n",
        "\n",
        "# Solve the puzzle\n",
        "puzzle_solver('Puzzle 1', knowledge1)"
      ],
      "metadata": {
        "id": "npQkAJ3KOj3d"
      },
      "execution_count": null,
      "outputs": []
    },
    {
      "cell_type": "markdown",
      "source": [],
      "metadata": {
        "id": "MC6iMCmSOp1X"
      }
    },
    {
      "cell_type": "markdown",
      "metadata": {
        "id": "FGYDAq7nBhKU"
      },
      "source": [
        "## Puzzle 2\n",
        "**Puzzle 2** has two characters: A and B.\n",
        "- A says “We are the same kind.”\n",
        "- B says “We are of different kinds.”"
      ]
    },
    {
      "cell_type": "code",
      "source": [
        "knowledge2 = And(\n",
        "    # YOUR CODE HERE\n",
        "    And(Or(AKnave,AKnight), Not(And(AKnave,AKnight))),\n",
        "    And(Or(BKnave,BKnight), Not(And(BKnave,BKnight))),\n",
        "    Implication(AKnight,Or(And(AKnave,BKnave),And(AKnight,BKnight))),\n",
        "    Implication(AKnave,Not(Or(And(AKnave,BKnave),And(AKnight,BKnight)))),\n",
        "    Implication(BKnight,Or(And(AKnave,BKnight),And(BKnave,AKnight))),\n",
        "    Implication(BKnave,Not(Or(And(AKnave,BKnight),And(BKnave,AKnight))))\n",
        ")\n",
        "\n",
        "# Solve the puzzle\n",
        "puzzle_solver('Puzzle 2', knowledge2)"
      ],
      "metadata": {
        "id": "KPIxsjEsOtA3"
      },
      "execution_count": null,
      "outputs": []
    },
    {
      "cell_type": "markdown",
      "source": [],
      "metadata": {
        "id": "qZnF-zhKOyRR"
      }
    },
    {
      "cell_type": "markdown",
      "metadata": {
        "id": "TI6bkwXLBlhU"
      },
      "source": [
        "## Puzzle 3\n",
        "**Puzzle 3** has three characters: A, B, and C.\n",
        "- A says either “I am a knight.” or “I am a knave.”, but you don’t know which.\n",
        "- B says “A said ‘I am a knave.’”\n",
        "- B then says “C is a knave.”\n",
        "- C says “A is a knight.”"
      ]
    },
    {
      "cell_type": "code",
      "source": [
        "statement_a = Or(Implication(AKnave, AKnave), Implication(AKnight, AKnave))\n",
        "statement_b = And(Implication(AKnave, AKnave),Implication(AKnight, AKnave))\n",
        "statement_c = And(statement_a, Not(statement_b))\n",
        "statement_d = Or(Implication(AKnave, AKnight), Implication(AKnight, AKnight))\n",
        "\n",
        "knowledge3 = And(\n",
        "    And(Or(AKnave,AKnight), Not(And(AKnave,AKnight))),\n",
        "    And(Or(BKnave,BKnight), Not(And(BKnave,BKnight))),\n",
        "    And(Or(CKnave,CKnight), Not(And(CKnave,CKnight))),\n",
        "\n",
        "    Implication(AKnight, And((Or(AKnave,AKnight)),Not(And(AKnave,AKnight)))),\n",
        "    Implication(AKnave, And((Or(AKnave,AKnight)),Not(And(AKnave,AKnight)))),\n",
        "    Implication(CKnight, AKnight),\n",
        "    Implication(CKnave, AKnave),\n",
        "    Implication(BKnight, And(CKnave,statement_c)),\n",
        "    Implication(BKnave, And(Not(CKnave),(statement_d)))\n",
        "\n",
        ")\n",
        "\n",
        "puzzle_solver('Puzzle 3', knowledge3)"
      ],
      "metadata": {
        "id": "won8pfQ4O3kj"
      },
      "execution_count": null,
      "outputs": []
    },
    {
      "cell_type": "markdown",
      "metadata": {
        "id": "V8eCZeLeCWbE"
      },
      "source": [
        "## Puzzle 4\n",
        "**Puzzle 4** has three characters: A, B, and C.\n",
        "- A says “B never lies.”\n",
        "- C says “A is a knave and I am a knave.”\n",
        "- B says “C is a knave.”"
      ]
    },
    {
      "cell_type": "code",
      "source": [
        "knowledge4 = And(\n",
        "    # YOUR CODE HERE\n",
        "    And(Or(AKnave,AKnight), Not(And(AKnave,AKnight))),\n",
        "    And(Or(BKnave,BKnight), Not(And(BKnave,BKnight))),\n",
        "    And(Or(CKnave,CKnight), Not(And(CKnave,CKnight))),\n",
        "\n",
        "    Implication(AKnight,BKnight),\n",
        "    Implication(AKnave,Not(BKnight)),\n",
        "    Implication(CKnight,And(AKnave,CKnave)),\n",
        "    Implication(CKnave,Not(And(AKnave,CKnave))),\n",
        "    Implication(BKnight,CKnave),\n",
        "    Implication(BKnave,Not(CKnave))\n",
        "\n",
        ")\n",
        "\n",
        "# Solve the puzzle\n",
        "puzzle_solver('Puzzle 4', knowledge4)"
      ],
      "metadata": {
        "id": "YtSsSqNeO90x"
      },
      "execution_count": null,
      "outputs": []
    },
    {
      "cell_type": "markdown",
      "source": [],
      "metadata": {
        "id": "X4RRjL4vPBgp"
      }
    },
    {
      "cell_type": "markdown",
      "metadata": {
        "id": "pjQ8vD81Cam_"
      },
      "source": [
        "## Puzzle 5\n",
        "**Puzzle 5** has three characters: A, B, and C.\n",
        "- B says “A is like me”\n",
        "- A says “C always tells the truth.”\n",
        "- C says “B lies.”\n",
        "- B says “A is lying.”"
      ]
    },
    {
      "cell_type": "code",
      "source": [
        "knowledge5 = And(\n",
        "    # YOUR CODE HERE\n",
        "    And(Or(AKnave,AKnight), Not(And(AKnave,AKnight))),\n",
        "    And(Or(BKnave,BKnight), Not(And(BKnave,BKnight))),\n",
        "    And(Or(CKnave,CKnight), Not(And(CKnave,CKnight))),\n",
        "\n",
        "    Implication(BKnight, And(AKnight,AKnave)),\n",
        "    Implication(BKnave, Not(And(AKnight,AKnave))),\n",
        "\n",
        "    Implication(AKnight, CKnight),\n",
        "    Implication(AKnave, Not(CKnight)),\n",
        "    Implication(CKnight, BKnave),\n",
        "    Implication(CKnave, Not(BKnave))\n",
        ")\n",
        "\n",
        "# Solve the puzzle\n",
        "puzzle_solver('Puzzle 5', knowledge5)"
      ],
      "metadata": {
        "id": "amAprmF5PD30"
      },
      "execution_count": null,
      "outputs": []
    }
  ]
}