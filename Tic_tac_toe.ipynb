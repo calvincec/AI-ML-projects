{
  "nbformat": 4,
  "nbformat_minor": 0,
  "metadata": {
    "colab": {
      "provenance": []
    },
    "kernelspec": {
      "name": "python3",
      "display_name": "Python 3"
    },
    "language_info": {
      "name": "python"
    }
  },
  "cells": [
    {
      "cell_type": "markdown",
      "source": [
        "#Tic-Tac-Toe aka \"Noughts and Crosses\"\n",
        "This code helps in understanding the Adversarial search Algorithm used in Artificial Intelligence\n",
        "\n",
        "It aims to code the famous Tic Tac Toe game which involves two players with consercutive moves\n",
        "one player uses X as his/her move and the other uses O\n",
        "\n",
        "In this case, a user is going to play against the AI model\n",
        "\n",
        "just click `Runtime -> Run all` and play the game that will appear at the end of the code\n",
        "\n",
        "\n"
      ],
      "metadata": {
        "id": "e0H1rxHsCY6y"
      }
    },
    {
      "cell_type": "markdown",
      "source": [
        "##How it works\n",
        "The game uses Minimax functions to play optimally against the user\n",
        "\n",
        "It has varius functions used in its implementations and are explained in their respective cells\n",
        "\n",
        "We assume a board, which is a 3 by 3 matrix that contains either of three states, Empty, X or O. In python, this is represented as a list of three lists and the initial state is has all the elements Empty"
      ],
      "metadata": {
        "id": "oV8syoAKFOLk"
      }
    },
    {
      "cell_type": "code",
      "source": [
        "#required imports\n",
        "\n",
        "from IPython.display import clear_output\n",
        "import time\n",
        "from random import randint\n",
        "import copy\n",
        "import math\n"
      ],
      "metadata": {
        "id": "BgsYeZglSnvO"
      },
      "execution_count": 77,
      "outputs": []
    },
    {
      "cell_type": "markdown",
      "metadata": {
        "id": "hbq1t4ir-zLp"
      },
      "source": [
        "First, we define three variables: X, O, and E, to represent possible moves of the board."
      ]
    },
    {
      "cell_type": "code",
      "execution_count": 78,
      "metadata": {
        "id": "ggncoegNBvKw"
      },
      "outputs": [],
      "source": [
        "X = \"X\"\n",
        "O = \"O\" # NB: this is capital O, not zero\n",
        "E = None # Using E instead of EMPTY."
      ]
    },
    {
      "cell_type": "markdown",
      "metadata": {
        "id": "wesw4-IX--jF"
      },
      "source": [
        "The function `initial_state` returns the starting state of the `board`."
      ]
    },
    {
      "cell_type": "code",
      "source": [
        "def initial_state():\n",
        "    \"\"\"\n",
        "    Returns starting state of the board.\n",
        "    \"\"\"\n",
        "    return [[E, E, E],\n",
        "            [E, E, E],\n",
        "            [E, E, E]]"
      ],
      "metadata": {
        "id": "VE128X_mHL1b"
      },
      "execution_count": 79,
      "outputs": []
    },
    {
      "cell_type": "markdown",
      "metadata": {
        "id": "bpYnV0cW_fhG"
      },
      "source": [
        "## player\n",
        "The player function takes a board state as input, and return which player’s turn it is (either X or O).\n",
        "- In the initial game state, X gets the first move. Subsequently, the player alternates with each additional move.\n",
        "- Any return value is acceptable if a terminal board is provided as input (i.e., the game is already over).\n",
        "- It is implemented by `no_next_move` function which ensures no empty state is available\n"
      ]
    },
    {
      "cell_type": "code",
      "source": [
        "\n",
        "def no_next_move(board):\n",
        "  for row in board:\n",
        "      if E in row:\n",
        "          return False\n",
        "  return True\n"
      ],
      "metadata": {
        "id": "PWk_aP-eIcsm"
      },
      "execution_count": 80,
      "outputs": []
    },
    {
      "cell_type": "code",
      "source": [
        "\n",
        "def player(board):\n",
        "    \"\"\"\n",
        "    Returns player who has the next turn on a board.\n",
        "    \"\"\"\n",
        "    if no_next_move(board):\n",
        "      return 0\n",
        "    x_count = 0\n",
        "    O_count = 0\n",
        "    for row in range(3):\n",
        "      x_count += board[row].count(X)\n",
        "      O_count += board[row].count(O)\n",
        "    if x_count>O_count:\n",
        "      return O\n",
        "    else:\n",
        "      return X\n"
      ],
      "metadata": {
        "id": "L-2EecG5IfFY"
      },
      "execution_count": 81,
      "outputs": []
    },
    {
      "cell_type": "markdown",
      "metadata": {
        "id": "lyfiR82BqbYE"
      },
      "source": [
        "## actions\n",
        "The `actions` function returns a set of all of the possible actions that can be taken on a given board.\n",
        "- Each action is represented as a tuple `(i, j)` where `i` corresponds to the row of the move (0, 1, or 2) and `j` corresponds to which cell in the row corresponds to the move (also 0, 1, or 2).\n",
        "- Possible moves are any cells on the board that do not already have an `X` or an `O` in them.\n",
        "- Any return value is acceptable if a terminal board is provided as input.\n"
      ]
    },
    {
      "cell_type": "code",
      "source": [
        "\n",
        "def actions(board):\n",
        "    \"\"\"\n",
        "    Returns set of all possible actions (i, j) available on the board.\n",
        "    \"\"\"\n",
        "    if no_next_move(board):\n",
        "      return ()\n",
        "\n",
        "    a = []\n",
        "    for i in range (3):\n",
        "      for j in range(3):\n",
        "        if E == board[i][j]:\n",
        "          a.append((i, j))\n",
        "    return tuple(a)\n"
      ],
      "metadata": {
        "id": "QO3O6tuZJb1v"
      },
      "execution_count": 82,
      "outputs": []
    },
    {
      "cell_type": "markdown",
      "metadata": {
        "id": "3lXgMq5kq13i"
      },
      "source": [
        "## result\n",
        "The `result` function takes a `board` and an `action` as input, and returns a new board state, without modifying the original board.\n",
        "- If action is not a valid action for the board, an `Exception` is raised.\n",
        "- The returned board state should be the board that would result from taking the original input board, and letting the player whose turn it is make their move at the cell indicated by the input action.\n",
        "- The original board should is unmodified since `minimax` will ultimately require considering many different board states during its computation."
      ]
    },
    {
      "cell_type": "code",
      "source": [
        "\n",
        "def result(board, action):\n",
        "    k = player(board)\n",
        "    if action not in actions(board):\n",
        "      raise Exception(\"Not a valid move\")\n",
        "    a = list(action)\n",
        "    board[a[0]][a[1]] = k\n",
        "    return board"
      ],
      "metadata": {
        "id": "cjBiDcwnK1Ak"
      },
      "execution_count": 83,
      "outputs": []
    },
    {
      "cell_type": "markdown",
      "metadata": {
        "id": "FQQeZpxQcTLh"
      },
      "source": [
        "## winner\n",
        "The `winner` function accepts a `board` as input, and returns the winner of the board if there is one.\n",
        "- If the `X` player has won the game, the function returns `X`. If the `O` player has won the game, the function returns `O`.\n",
        "- One can win the game with three of their moves in a row horizontally, vertically, or diagonally.\n",
        "- There will be at most one winner, that is, no board will ever have both players with three-in-a-row, since that would be an invalid board state.\n",
        "- If there is no winner of the game (either because the game is in progress, or because it ended in a tie), the function returns `None`."
      ]
    },
    {
      "cell_type": "code",
      "source": [
        "def winner(board):\n",
        "    \"\"\"\n",
        "    Returns the winner of the game, if there is one.\n",
        "    \"\"\"\n",
        "    global X\n",
        "    global O\n",
        "    a = board\n",
        "    choice1 = (((a[0][0]==X)and(a[1][0]==X)and(a[2][0]==X))or\n",
        "              ((a[0][1]==X)and(a[1][1]==X)and(a[2][1]==X))or\n",
        "              ((a[0][2]==X)and(a[1][2]==X)and(a[2][2]==X))or\n",
        "              ((a[0][0]==X)and(a[0][1]==X)and(a[0][2]==X))or\n",
        "              ((a[1][0]==X)and(a[1][1]==X)and(a[1][2]==X))or\n",
        "              ((a[2][0]==X)and(a[2][1]==X)and(a[2][2]==X))or\n",
        "              ((a[0][0]==X)and(a[1][1]==X)and(a[2][2]==X))or\n",
        "              ((a[0][2]==X)and(a[1][1]==X)and(a[2][0]==X))\n",
        "              )\n",
        "    choice2 = (((a[0][0]==O)and(a[1][0]==O)and(a[2][0]==O))or\n",
        "              ((a[0][1]==O)and(a[1][1]==O)and(a[2][1]==O))or\n",
        "              ((a[0][2]==O)and(a[1][2]==O)and(a[2][2]==O))or\n",
        "              ((a[0][0]==O)and(a[0][1]==O)and(a[0][2]==O))or\n",
        "              ((a[1][0]==O)and(a[1][1]==O)and(a[1][2]==O))or\n",
        "              ((a[2][0]==O)and(a[2][1]==O)and(a[2][2]==O))or\n",
        "              ((a[0][0]==O)and(a[1][1]==O)and(a[2][2]==O))or\n",
        "              ((a[0][2]==O)and(a[1][1]==O)and(a[2][0]==O))\n",
        "              )\n",
        "    if choice1:\n",
        "      return X\n",
        "    elif choice2:\n",
        "      return O\n",
        "    else:\n",
        "      return None"
      ],
      "metadata": {
        "id": "SBdMZUsrMTFI"
      },
      "execution_count": 84,
      "outputs": []
    },
    {
      "cell_type": "markdown",
      "metadata": {
        "id": "I8ihV5Wec771"
      },
      "source": [
        "## terminal\n",
        "The `terminal` function accepts a `board` as input, and return a boolean value indicating whether the game is over.\n",
        "- If the game is over, either because someone has won the game or because all cells have been filled without anyone winning, the function returns `True`.\n",
        "- Otherwise, the function returns `False` if the game is still in progress."
      ]
    },
    {
      "cell_type": "code",
      "source": [
        "\n",
        "def terminal(board):\n",
        "    \"\"\"\n",
        "    Returns True if game is over, False otherwise.\n",
        "    \"\"\"\n",
        "    if no_next_move(board):\n",
        "      return True\n",
        "    elif (winner(board)==X or winner(board)==O):\n",
        "      return True\n",
        "    else:\n",
        "      return False"
      ],
      "metadata": {
        "id": "I-xi9f8wMRjV"
      },
      "execution_count": 85,
      "outputs": []
    },
    {
      "cell_type": "markdown",
      "metadata": {
        "id": "FjUzM0ZcdMNk"
      },
      "source": [
        "## utility\n",
        "The `utility` function accepts a terminal `board` as input and output the utility of the board.\n",
        "- If `X` has won the game, the utility is 1. If O has won the game, the utility is -1. If the game has ended in a tie, the utility is 0.\n",
        "- `utility` will only be called on a board if `terminal(board)` is `True`.\n"
      ]
    },
    {
      "cell_type": "code",
      "source": [
        "def utility(board):\n",
        "    \"\"\"\n",
        "    Returns 1 if X has won the game, -1 if O has won, 0 otherwise.\n",
        "    \"\"\"\n",
        "    if not(terminal(board)):\n",
        "      return\n",
        "    if (winner(board)==X):\n",
        "      return 1\n",
        "    elif(winner(board)==O):\n",
        "      return -1\n",
        "    else:\n",
        "      return 0\n"
      ],
      "metadata": {
        "id": "A8KsAM6rNhEf"
      },
      "execution_count": 86,
      "outputs": []
    },
    {
      "cell_type": "markdown",
      "metadata": {
        "id": "8x0ZfEDfdldM"
      },
      "source": [
        "## minimax\n",
        "The `minimax` function takes a `board` as input, and return the optimal move for the player to move on that board.\n",
        "- The move returned should be the optimal action `(i, j)` that is one of the allowable actions on the board. If multiple moves are equally optimal, any of those moves is acceptable.\n",
        "- If the `board` is a terminal board, the `minimax` function returns None."
      ]
    },
    {
      "cell_type": "code",
      "source": [
        "#to get max value amongst 3 values\n",
        "def max(x,y,xy):\n",
        "  if ((x>y)and(x>xy)):\n",
        "    return x\n",
        "  elif ((y>x)and(y>xy)):\n",
        "    return y\n",
        "  else:\n",
        "    return xy"
      ],
      "metadata": {
        "id": "1VCONBvu0jLB"
      },
      "execution_count": 91,
      "outputs": []
    },
    {
      "cell_type": "code",
      "source": [
        "def optimised_move(step,board,nm):\n",
        "  #step 1, check x-wise direction\n",
        "  winning_movex = board[step[0]].count(nm)\n",
        "  prevent_enemyx = 3-(winning_movex)-board[step[0]].count(E)\n",
        "  #step 2, check y-wise direction\n",
        "  newstep = (0,step[1])\n",
        "  winning_movey = 0\n",
        "  prevent_enemyy = 0\n",
        "  for i in range(3):\n",
        "    if board[i][step[1]] == nm:\n",
        "      winning_movey += 1\n",
        "    elif board[i][step[1]] == E:\n",
        "      continue\n",
        "    else:\n",
        "      prevent_enemyy += 1\n",
        "  #step 3, check diagonals\n",
        "  winning_movexy = 0\n",
        "  prevent_enemyxy = 0\n",
        "  if step in [(0,0),(1,1),(2,2)]:\n",
        "    innit = 0\n",
        "    for i in range(3):\n",
        "      if board[i][innit] == nm:\n",
        "        winning_movexy += 1\n",
        "      elif board[i][innit] == E:\n",
        "        pass\n",
        "      else:\n",
        "        prevent_enemyxy += 1\n",
        "      innit +=1\n",
        "  storexy = [winning_movexy,prevent_enemyxy]\n",
        "  winning_movexy = 0\n",
        "  prevent_enemyxy = 0\n",
        "  if step in [(0,2),(1,1),(2,0)]:\n",
        "    innit = 2\n",
        "    for i in range(3):\n",
        "      if board[i][innit] == nm:\n",
        "        winning_movexy += 1\n",
        "      elif board[i][innit] == E:\n",
        "        pass\n",
        "      else:\n",
        "        prevent_enemyxy += 1\n",
        "      innit -=1\n",
        "  winning_movexy = max(storexy[0],winning_movexy,0)\n",
        "  prevent_enemyxy = max(storexy[1],prevent_enemyxy,0)\n",
        "  #find the optimum winning move and the optimum move to prevent enemy from win\n",
        "  winning_move = max(winning_movex, winning_movey, winning_movexy)\n",
        "  prevent_enemy = max(prevent_enemyx, prevent_enemyy, prevent_enemyxy)\n",
        "  #return the two optimum moves in both cases\n",
        "  return (prevent_enemy, winning_move)\n",
        "\n"
      ],
      "metadata": {
        "id": "cI4GmTuv0pRs"
      },
      "execution_count": 92,
      "outputs": []
    },
    {
      "cell_type": "code",
      "source": [
        "#to help generate random move decisions\n",
        "def random(offset):\n",
        "  import random\n",
        "  return (random.randint(0,offset))\n"
      ],
      "metadata": {
        "id": "cyjwlPCW0rwJ"
      },
      "execution_count": 93,
      "outputs": []
    },
    {
      "cell_type": "code",
      "source": [
        "def minimax(board):\n",
        "    \"\"\"\n",
        "    Returns the optimal action for the current player on the board.\n",
        "    \"\"\"\n",
        "    if terminal(board):\n",
        "      return None\n",
        "\n",
        "    actns = actions(board)\n",
        "    next_winning_mv = []\n",
        "    for i in range(len(actns)):\n",
        "      decision = optimised_move(actns[i],board,player(board))\n",
        "      if decision[0]==2:\n",
        "        return actns[i]\n",
        "      if decision[1] == 2:\n",
        "        next_winning_mv.append(actns[i])\n",
        "    if len(next_winning_mv)>0:\n",
        "      return next_winning_mv[random(len(next_winning_mv)-1)]\n",
        "    return actns[random(len(actns)-1)]\n",
        "\n",
        ""
      ],
      "metadata": {
        "id": "LVLA8tWq0uFg"
      },
      "execution_count": 94,
      "outputs": []
    },
    {
      "cell_type": "markdown",
      "source": [
        "#the play_game() function\n",
        "- used to now help play the game"
      ],
      "metadata": {
        "id": "C05cjYAeQmm8"
      }
    },
    {
      "cell_type": "code",
      "source": [
        "# This cell's purpose in life is to draw (print) the interface\n",
        "# and to simulate the actual play between a player and the AI.\n",
        "\n",
        "\n",
        "# Prefixes for colored text\n",
        "blue = '\\033[94m'\n",
        "black = '\\033[0m'\n",
        "red = '\\033[91m'\n",
        "\n",
        "def display_board(board, header=None, footer=None):\n",
        "    '''\n",
        "    A function to diplay the board on the screen\n",
        "    '''\n",
        "\n",
        "    if header is None:\n",
        "        print(' ')\n",
        "    else:\n",
        "        print(red + header + black, '\\n')\n",
        "\n",
        "    temp_board = copy.deepcopy(board)\n",
        "    for i in range(3):\n",
        "        for j in range(3):\n",
        "            if temp_board[i][j] == None:\n",
        "                temp_board[i][j] = ' '\n",
        "\n",
        "    print('1    |2    |3  ')\n",
        "    print(' ', blue + temp_board[0][0], black + ' | ', blue + temp_board[0][1], black + ' | ', blue + temp_board[0][2] + black)\n",
        "    print('_____|_____|_____')\n",
        "    print('4    |5    |6  ')\n",
        "    print(' ', blue + temp_board[1][0], black + ' | ', blue + temp_board[1][1], black + ' | ', blue + temp_board[1][2] + black)\n",
        "    print('_____|_____|_____')\n",
        "    print('7    |8    |9  ')\n",
        "    print(' ', blue + temp_board[2][0], black + ' | ', blue + temp_board[2][1], black + ' | ', blue + temp_board[2][2] + black)\n",
        "    print('     |     |  ')\n",
        "\n",
        "    if footer is not None:\n",
        "        print('\\n')\n",
        "        print(footer)\n",
        "\n",
        "def player_input(board, title=None):\n",
        "    '''\n",
        "    Check for the user input\n",
        "    '''\n",
        "\n",
        "    while True:\n",
        "        move = input('Choose a valid position for your next  move (1, 2, ..., 9): ')\n",
        "        if move not in ['1', '2', '3', '4', '5', '6', '7', '8', '9']:\n",
        "            continue\n",
        "        move = int(move) - 1 # -1 because the board_positions displayed started at 1 and not 0\n",
        "        i, j = move // 3, move % 3\n",
        "\n",
        "        if board[i][j] == None:\n",
        "            return (i, j)\n",
        "        else:\n",
        "            print('You need to choose an available position!')\n",
        "\n",
        "def play_game(board):\n",
        "    '''\n",
        "    A function to simulate the game\n",
        "    '''\n",
        "\n",
        "    user = None\n",
        "    ai_turn = False\n",
        "\n",
        "    print('Welcome to Tic Tac Toe...')\n",
        "\n",
        "    while True:\n",
        "        user = input('Choose the player you would like to be (X or O): ')\n",
        "        user = user.upper()\n",
        "        if user not in ['X', 'O']:\n",
        "            print('You chose an invalid option...')\n",
        "            time.sleep(3)\n",
        "            clear_output()\n",
        "            continue\n",
        "        else:\n",
        "            break\n",
        "\n",
        "    minimax_time = None\n",
        "\n",
        "    while True:\n",
        "        game_over = terminal(board)\n",
        "        next_player = player(board)\n",
        "\n",
        "        # Determine the title\n",
        "        if game_over:\n",
        "            game_winner = winner(board)\n",
        "            if game_winner is None:\n",
        "                title = f'Game over: Tie.'\n",
        "            else:\n",
        "                title = f'Game over: {game_winner} wins.'\n",
        "        elif user == next_player:\n",
        "            if minimax_time is not None:\n",
        "                title = f\"The AI's move took {minimax_time} milliseconds.\\nYour turn to play.\"\n",
        "            else:\n",
        "                title = f'Your turn to play.'\n",
        "        else:\n",
        "            title = f'The AI is thinking...'\n",
        "\n",
        "        clear_output()\n",
        "        display_board(board, title)\n",
        "\n",
        "        # Check for AI move\n",
        "        if user != next_player and not game_over:\n",
        "            if ai_turn:\n",
        "                time.sleep(5)\n",
        "                start_time = round(time.time() * 1000)\n",
        "                move = minimax(board)\n",
        "                end_time = round(time.time() *1000)\n",
        "                minimax_time = int(end_time - start_time)\n",
        "                board = result(board, move)\n",
        "                ai_turn = False\n",
        "            else:\n",
        "                ai_turn = True\n",
        "\n",
        "        # Check for a user move\n",
        "        if user == next_player and not game_over:\n",
        "            i, j = player_input(board, title)\n",
        "            board = result(board, (i, j))\n",
        "\n",
        "        if game_over:\n",
        "            break"
      ],
      "metadata": {
        "id": "8P5_cBJFRTzb"
      },
      "execution_count": 95,
      "outputs": []
    },
    {
      "cell_type": "markdown",
      "source": [
        "#Finally, playing the game"
      ],
      "metadata": {
        "id": "j-jFxW2aRu19"
      }
    },
    {
      "cell_type": "code",
      "source": [
        "board = initial_state()\n",
        "\n",
        "play_game(board)"
      ],
      "metadata": {
        "id": "MbxZqR5CRzKn"
      },
      "execution_count": null,
      "outputs": []
    }
  ]
}